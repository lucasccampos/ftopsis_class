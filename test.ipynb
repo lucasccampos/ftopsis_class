{
 "cells": [
  {
   "cell_type": "code",
   "execution_count": 1,
   "metadata": {},
   "outputs": [],
   "source": [
    "from ftopsis_class import CriteriaType\n",
    "from ftopsis_class import FTOPSISClass as ft\n",
    "\n",
    "import numpy as np\n",
    "import pandas as pd"
   ]
  },
  {
   "cell_type": "code",
   "execution_count": 13,
   "metadata": {},
   "outputs": [],
   "source": [
    "# Váriáveis Linguísticas para avaliação alternativas\n",
    "MR = np.array([0.0, 0.0, 2.5]) # Muito Ruim\n",
    "R = np.array([0.0, 2.5, 5.0]) # Ruim\n",
    "M = np.array([2.5, 5.0, 7.5]) # Medio\n",
    "B = np.array([5.0, 7.5, 10.0]) # Bom\n",
    "MB = np.array([7.5, 10.0, 10.0]) # Muito Bom\n",
    "\n",
    "#Variáveis Linguísticas dos pesos dos critérios\n",
    "NI = np.array([0.2, 0.2, 0.4]) # Nada Importante\n",
    "PI = np.array([0.2, 0.4, 0.6]) # Pouco Importante\n",
    "IM = np.array([0.4, 0.6, 0.8]) # Importancia Media\n",
    "I = np.array([0.6, 0.8, 1.0]) # Importante\n",
    "MI = np.array([0.8, 0.8, 1.0]) # Muito Importante"
   ]
  },
  {
   "cell_type": "code",
   "execution_count": 14,
   "metadata": {},
   "outputs": [],
   "source": [
    "dados_matriz_decisao = {\n",
    "    \"C1\": [MB, B, M, R, MR, MB,MB, R, B],\n",
    "    'C2': [MB, B, M, R, MR, R, MR, B, MR],\n",
    "    'C3': [MB, B, M, R, MR, B, B, B, R],\n",
    "    'C4': [MB, B, M, R, MR, MB, MB, B, MB]\n",
    "}\n",
    "matriz_decisao = pd.DataFrame(dados_matriz_decisao)\n",
    "\n",
    "dados_perfil = {\n",
    "    \"C1\": [MB, B, R],\n",
    "    'C2': [B, M, R],\n",
    "    'C3': [B, M, MR],\n",
    "    'C4': [MB, B, M]\n",
    "}\n",
    "matriz_perfil = pd.DataFrame(dados_perfil)\n",
    "\n",
    "mapeamento_perfil = {0: 'Preferível', 1: 'Aceitável', 2: 'Inaceitável'}"
   ]
  },
  {
   "cell_type": "code",
   "execution_count": 15,
   "metadata": {},
   "outputs": [],
   "source": [
    "pesos = {\"C1\": [I], \"C2\": [IM], \"C3\": [IM], \"C4\": [I]}\n",
    "pesos = pd.DataFrame(pesos)\n",
    "\n",
    "tipo_criterio = {\n",
    "    \"C1\": CriteriaType.Benefit,\n",
    "    \"C2\": CriteriaType.Benefit,\n",
    "    \"C3\": CriteriaType.Benefit,\n",
    "    \"C4\": CriteriaType.Benefit,\n",
    "}"
   ]
  },
  {
   "cell_type": "code",
   "execution_count": 16,
   "metadata": {},
   "outputs": [],
   "source": [
    "# normalizar matriz de decisao\n",
    "matriz_normalizada = ft.normalize_matrix(matriz_decisao, tipo_criterio)\n",
    "\n",
    "# ponderar matriz de perfil\n",
    "matriz_ponderada = ft.weigh_matrix(matriz_normalizada, pesos)\n",
    "\n",
    "# arredondar numeros para 4 casas decimais\n",
    "matriz_decisao_normalizada_ponderada  = ft.round_weighted_normalized_matrix(matriz_ponderada)"
   ]
  },
  {
   "cell_type": "code",
   "execution_count": 17,
   "metadata": {},
   "outputs": [],
   "source": [
    "# normalizar matriz de perfil\n",
    "matriz_perfil_normalizada = ft.normalize_matrix(matriz_perfil, tipo_criterio)\n",
    "\n",
    "# ponderar matriz de perfil\n",
    "matriz_perfil_ponderada = ft.weigh_matrix(matriz_perfil_normalizada, pesos)\n",
    "\n",
    "# arredondar numeros para 4 casas decimais\n",
    "matriz_perfil_normalizada_ponderada = ft.round_weighted_normalized_matrix(matriz_perfil_ponderada)"
   ]
  },
  {
   "cell_type": "code",
   "execution_count": 18,
   "metadata": {},
   "outputs": [],
   "source": [
    "solucao_ideal_positiva, solucao_ideal_negativa = ft.ideal_solution(matriz_perfil_normalizada_ponderada, mapeamento_perfil)"
   ]
  },
  {
   "cell_type": "code",
   "execution_count": 19,
   "metadata": {},
   "outputs": [],
   "source": [
    "distancia_positiva, distancia_neagtiva = ft.distance_calculation(matriz_decisao_normalizada_ponderada, solucao_ideal_positiva, solucao_ideal_negativa)"
   ]
  },
  {
   "cell_type": "code",
   "execution_count": 20,
   "metadata": {},
   "outputs": [],
   "source": [
    "resultado = ft.proximity_coefficient(distancia_positiva, distancia_neagtiva)"
   ]
  },
  {
   "cell_type": "code",
   "execution_count": 21,
   "metadata": {},
   "outputs": [
    {
     "data": {
      "text/html": [
       "<div>\n",
       "<style scoped>\n",
       "    .dataframe tbody tr th:only-of-type {\n",
       "        vertical-align: middle;\n",
       "    }\n",
       "\n",
       "    .dataframe tbody tr th {\n",
       "        vertical-align: top;\n",
       "    }\n",
       "\n",
       "    .dataframe thead th {\n",
       "        text-align: right;\n",
       "    }\n",
       "</style>\n",
       "<table border=\"1\" class=\"dataframe\">\n",
       "  <thead>\n",
       "    <tr style=\"text-align: right;\">\n",
       "      <th></th>\n",
       "      <th>Preferível</th>\n",
       "      <th>Aceitável</th>\n",
       "      <th>Inaceitável</th>\n",
       "    </tr>\n",
       "  </thead>\n",
       "  <tbody>\n",
       "    <tr>\n",
       "      <th>Fornecedor 1</th>\n",
       "      <td>0.893756</td>\n",
       "      <td>0.696028</td>\n",
       "      <td>0.106244</td>\n",
       "    </tr>\n",
       "    <tr>\n",
       "      <th>Fornecedor 2</th>\n",
       "      <td>0.826110</td>\n",
       "      <td>0.815191</td>\n",
       "      <td>0.173890</td>\n",
       "    </tr>\n",
       "    <tr>\n",
       "      <th>Fornecedor 3</th>\n",
       "      <td>0.406098</td>\n",
       "      <td>0.615665</td>\n",
       "      <td>0.593902</td>\n",
       "    </tr>\n",
       "    <tr>\n",
       "      <th>Fornecedor 4</th>\n",
       "      <td>0.173267</td>\n",
       "      <td>0.236106</td>\n",
       "      <td>0.826733</td>\n",
       "    </tr>\n",
       "    <tr>\n",
       "      <th>Fornecedor 5</th>\n",
       "      <td>0.238368</td>\n",
       "      <td>0.288212</td>\n",
       "      <td>0.761632</td>\n",
       "    </tr>\n",
       "    <tr>\n",
       "      <th>Fornecedor 6</th>\n",
       "      <td>0.805949</td>\n",
       "      <td>0.682908</td>\n",
       "      <td>0.194051</td>\n",
       "    </tr>\n",
       "    <tr>\n",
       "      <th>Fornecedor 7</th>\n",
       "      <td>0.762105</td>\n",
       "      <td>0.660319</td>\n",
       "      <td>0.237895</td>\n",
       "    </tr>\n",
       "    <tr>\n",
       "      <th>Fornecedor 8</th>\n",
       "      <td>0.591658</td>\n",
       "      <td>0.572524</td>\n",
       "      <td>0.408342</td>\n",
       "    </tr>\n",
       "    <tr>\n",
       "      <th>Fornecedor 9</th>\n",
       "      <td>0.530232</td>\n",
       "      <td>0.631823</td>\n",
       "      <td>0.469768</td>\n",
       "    </tr>\n",
       "  </tbody>\n",
       "</table>\n",
       "</div>"
      ],
      "text/plain": [
       "              Preferível  Aceitável  Inaceitável\n",
       "Fornecedor 1    0.893756   0.696028     0.106244\n",
       "Fornecedor 2    0.826110   0.815191     0.173890\n",
       "Fornecedor 3    0.406098   0.615665     0.593902\n",
       "Fornecedor 4    0.173267   0.236106     0.826733\n",
       "Fornecedor 5    0.238368   0.288212     0.761632\n",
       "Fornecedor 6    0.805949   0.682908     0.194051\n",
       "Fornecedor 7    0.762105   0.660319     0.237895\n",
       "Fornecedor 8    0.591658   0.572524     0.408342\n",
       "Fornecedor 9    0.530232   0.631823     0.469768"
      ]
     },
     "execution_count": 21,
     "metadata": {},
     "output_type": "execute_result"
    }
   ],
   "source": [
    "fornecedores = [\"Fornecedor 1\", \"Fornecedor 2\", \"Fornecedor 3\", \"Fornecedor 4\",\n",
    "                \"Fornecedor 5\", \"Fornecedor 6\", \"Fornecedor 7\", \"Fornecedor 8\", \"Fornecedor 9\"]\n",
    "\n",
    "resultado.index=fornecedores\n",
    "\n",
    "resultado"
   ]
  }
 ],
 "metadata": {
  "kernelspec": {
   "display_name": "ftopsis-class-pWKlU8zA-py3.10",
   "language": "python",
   "name": "python3"
  },
  "language_info": {
   "codemirror_mode": {
    "name": "ipython",
    "version": 3
   },
   "file_extension": ".py",
   "mimetype": "text/x-python",
   "name": "python",
   "nbconvert_exporter": "python",
   "pygments_lexer": "ipython3",
   "version": "3.10.12"
  }
 },
 "nbformat": 4,
 "nbformat_minor": 2
}
